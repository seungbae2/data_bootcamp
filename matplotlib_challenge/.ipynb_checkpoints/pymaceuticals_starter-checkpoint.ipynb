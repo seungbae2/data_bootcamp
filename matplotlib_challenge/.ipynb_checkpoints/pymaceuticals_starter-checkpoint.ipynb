{
 "cells": [
  {
   "cell_type": "markdown",
   "metadata": {},
   "source": [
    "## Observations and Insights"
   ]
  },
  {
   "cell_type": "markdown",
   "metadata": {},
   "source": []
  },
  {
   "cell_type": "markdown",
   "metadata": {},
   "source": [
    "## Dependencies and starter code"
   ]
  },
  {
   "cell_type": "code",
   "execution_count": 1,
   "metadata": {},
   "outputs": [],
   "source": [
    "%matplotlib inline"
   ]
  },
  {
   "cell_type": "code",
   "execution_count": 2,
   "metadata": {},
   "outputs": [
    {
     "data": {
      "text/html": [
       "<div>\n",
       "<style scoped>\n",
       "    .dataframe tbody tr th:only-of-type {\n",
       "        vertical-align: middle;\n",
       "    }\n",
       "\n",
       "    .dataframe tbody tr th {\n",
       "        vertical-align: top;\n",
       "    }\n",
       "\n",
       "    .dataframe thead th {\n",
       "        text-align: right;\n",
       "    }\n",
       "</style>\n",
       "<table border=\"1\" class=\"dataframe\">\n",
       "  <thead>\n",
       "    <tr style=\"text-align: right;\">\n",
       "      <th></th>\n",
       "      <th>Mouse ID</th>\n",
       "      <th>Drug Regimen</th>\n",
       "      <th>Sex</th>\n",
       "      <th>Age_months</th>\n",
       "      <th>Weight (g)</th>\n",
       "      <th>Timepoint</th>\n",
       "      <th>Tumor Volume (mm3)</th>\n",
       "      <th>Metastatic Sites</th>\n",
       "    </tr>\n",
       "  </thead>\n",
       "  <tbody>\n",
       "    <tr>\n",
       "      <th>0</th>\n",
       "      <td>k403</td>\n",
       "      <td>Ramicane</td>\n",
       "      <td>Male</td>\n",
       "      <td>21</td>\n",
       "      <td>16</td>\n",
       "      <td>0</td>\n",
       "      <td>45.000000</td>\n",
       "      <td>0</td>\n",
       "    </tr>\n",
       "    <tr>\n",
       "      <th>1</th>\n",
       "      <td>k403</td>\n",
       "      <td>Ramicane</td>\n",
       "      <td>Male</td>\n",
       "      <td>21</td>\n",
       "      <td>16</td>\n",
       "      <td>5</td>\n",
       "      <td>38.825898</td>\n",
       "      <td>0</td>\n",
       "    </tr>\n",
       "    <tr>\n",
       "      <th>2</th>\n",
       "      <td>k403</td>\n",
       "      <td>Ramicane</td>\n",
       "      <td>Male</td>\n",
       "      <td>21</td>\n",
       "      <td>16</td>\n",
       "      <td>10</td>\n",
       "      <td>35.014271</td>\n",
       "      <td>1</td>\n",
       "    </tr>\n",
       "    <tr>\n",
       "      <th>3</th>\n",
       "      <td>k403</td>\n",
       "      <td>Ramicane</td>\n",
       "      <td>Male</td>\n",
       "      <td>21</td>\n",
       "      <td>16</td>\n",
       "      <td>15</td>\n",
       "      <td>34.223992</td>\n",
       "      <td>1</td>\n",
       "    </tr>\n",
       "    <tr>\n",
       "      <th>4</th>\n",
       "      <td>k403</td>\n",
       "      <td>Ramicane</td>\n",
       "      <td>Male</td>\n",
       "      <td>21</td>\n",
       "      <td>16</td>\n",
       "      <td>20</td>\n",
       "      <td>32.997729</td>\n",
       "      <td>1</td>\n",
       "    </tr>\n",
       "  </tbody>\n",
       "</table>\n",
       "</div>"
      ],
      "text/plain": [
       "  Mouse ID Drug Regimen   Sex  Age_months  Weight (g)  Timepoint  \\\n",
       "0     k403     Ramicane  Male          21          16          0   \n",
       "1     k403     Ramicane  Male          21          16          5   \n",
       "2     k403     Ramicane  Male          21          16         10   \n",
       "3     k403     Ramicane  Male          21          16         15   \n",
       "4     k403     Ramicane  Male          21          16         20   \n",
       "\n",
       "   Tumor Volume (mm3)  Metastatic Sites  \n",
       "0           45.000000                 0  \n",
       "1           38.825898                 0  \n",
       "2           35.014271                 1  \n",
       "3           34.223992                 1  \n",
       "4           32.997729                 1  "
      ]
     },
     "execution_count": 2,
     "metadata": {},
     "output_type": "execute_result"
    }
   ],
   "source": [
    "# Dependencies and Setup\n",
    "import matplotlib.pyplot as plt\n",
    "import pandas as pd\n",
    "import scipy.stats as st\n",
    "import numpy as np\n",
    "\n",
    "# Study data files\n",
    "mouse_metadata = \"data/Mouse_metadata.csv\"\n",
    "study_results = \"data/Study_results.csv\"\n",
    "\n",
    "# Read the mouse data and the study results\n",
    "mouse_metadata = pd.read_csv(mouse_metadata)\n",
    "study_results = pd.read_csv(study_results)\n",
    "\n",
    "# Combine the data into a single dataset\n",
    "combined_data = pd.merge(mouse_metadata, study_results, how='outer', on='Mouse ID')\n",
    "combined_data.head()"
   ]
  },
  {
   "cell_type": "markdown",
   "metadata": {},
   "source": [
    "## Summary statistics"
   ]
  },
  {
   "cell_type": "code",
   "execution_count": 3,
   "metadata": {},
   "outputs": [
    {
     "data": {
      "text/html": [
       "<div>\n",
       "<style scoped>\n",
       "    .dataframe tbody tr th:only-of-type {\n",
       "        vertical-align: middle;\n",
       "    }\n",
       "\n",
       "    .dataframe tbody tr th {\n",
       "        vertical-align: top;\n",
       "    }\n",
       "\n",
       "    .dataframe thead th {\n",
       "        text-align: right;\n",
       "    }\n",
       "</style>\n",
       "<table border=\"1\" class=\"dataframe\">\n",
       "  <thead>\n",
       "    <tr style=\"text-align: right;\">\n",
       "      <th></th>\n",
       "      <th>Mean</th>\n",
       "      <th>Median</th>\n",
       "      <th>Variance</th>\n",
       "      <th>Standard Deviation</th>\n",
       "      <th>SEM</th>\n",
       "    </tr>\n",
       "    <tr>\n",
       "      <th>Drug Regimen</th>\n",
       "      <th></th>\n",
       "      <th></th>\n",
       "      <th></th>\n",
       "      <th></th>\n",
       "      <th></th>\n",
       "    </tr>\n",
       "  </thead>\n",
       "  <tbody>\n",
       "    <tr>\n",
       "      <th>Ramicane</th>\n",
       "      <td>40.216745</td>\n",
       "      <td>40.673236</td>\n",
       "      <td>23.486704</td>\n",
       "      <td>4.846308</td>\n",
       "      <td>0.320955</td>\n",
       "    </tr>\n",
       "    <tr>\n",
       "      <th>Capomulin</th>\n",
       "      <td>40.675741</td>\n",
       "      <td>41.557809</td>\n",
       "      <td>24.947764</td>\n",
       "      <td>4.994774</td>\n",
       "      <td>0.329346</td>\n",
       "    </tr>\n",
       "    <tr>\n",
       "      <th>Infubinol</th>\n",
       "      <td>52.884795</td>\n",
       "      <td>51.820584</td>\n",
       "      <td>43.128684</td>\n",
       "      <td>6.567243</td>\n",
       "      <td>0.492236</td>\n",
       "    </tr>\n",
       "    <tr>\n",
       "      <th>Placebo</th>\n",
       "      <td>54.033581</td>\n",
       "      <td>52.288934</td>\n",
       "      <td>61.168083</td>\n",
       "      <td>7.821003</td>\n",
       "      <td>0.581331</td>\n",
       "    </tr>\n",
       "    <tr>\n",
       "      <th>Ceftamin</th>\n",
       "      <td>52.591172</td>\n",
       "      <td>51.776157</td>\n",
       "      <td>39.290177</td>\n",
       "      <td>6.268188</td>\n",
       "      <td>0.469821</td>\n",
       "    </tr>\n",
       "    <tr>\n",
       "      <th>Stelasyn</th>\n",
       "      <td>54.233149</td>\n",
       "      <td>52.431737</td>\n",
       "      <td>59.450562</td>\n",
       "      <td>7.710419</td>\n",
       "      <td>0.573111</td>\n",
       "    </tr>\n",
       "    <tr>\n",
       "      <th>Zoniferol</th>\n",
       "      <td>53.236507</td>\n",
       "      <td>51.818479</td>\n",
       "      <td>48.533355</td>\n",
       "      <td>6.966589</td>\n",
       "      <td>0.516398</td>\n",
       "    </tr>\n",
       "    <tr>\n",
       "      <th>Ketapril</th>\n",
       "      <td>55.235638</td>\n",
       "      <td>53.698743</td>\n",
       "      <td>68.553577</td>\n",
       "      <td>8.279709</td>\n",
       "      <td>0.603860</td>\n",
       "    </tr>\n",
       "    <tr>\n",
       "      <th>Propriva</th>\n",
       "      <td>52.322552</td>\n",
       "      <td>50.854632</td>\n",
       "      <td>42.351070</td>\n",
       "      <td>6.507770</td>\n",
       "      <td>0.512884</td>\n",
       "    </tr>\n",
       "    <tr>\n",
       "      <th>Naftisol</th>\n",
       "      <td>54.331565</td>\n",
       "      <td>52.509285</td>\n",
       "      <td>66.173479</td>\n",
       "      <td>8.134708</td>\n",
       "      <td>0.596466</td>\n",
       "    </tr>\n",
       "  </tbody>\n",
       "</table>\n",
       "</div>"
      ],
      "text/plain": [
       "                   Mean     Median   Variance  Standard Deviation       SEM\n",
       "Drug Regimen                                                               \n",
       "Ramicane      40.216745  40.673236  23.486704            4.846308  0.320955\n",
       "Capomulin     40.675741  41.557809  24.947764            4.994774  0.329346\n",
       "Infubinol     52.884795  51.820584  43.128684            6.567243  0.492236\n",
       "Placebo       54.033581  52.288934  61.168083            7.821003  0.581331\n",
       "Ceftamin      52.591172  51.776157  39.290177            6.268188  0.469821\n",
       "Stelasyn      54.233149  52.431737  59.450562            7.710419  0.573111\n",
       "Zoniferol     53.236507  51.818479  48.533355            6.966589  0.516398\n",
       "Ketapril      55.235638  53.698743  68.553577            8.279709  0.603860\n",
       "Propriva      52.322552  50.854632  42.351070            6.507770  0.512884\n",
       "Naftisol      54.331565  52.509285  66.173479            8.134708  0.596466"
      ]
     },
     "execution_count": 3,
     "metadata": {},
     "output_type": "execute_result"
    }
   ],
   "source": [
    "# Generate a summary statistics table of mean, median, variance, standard deviation, and SEM of the tumor volume for each regimen\n",
    "regimen_list = combined_data['Drug Regimen'].unique()\n",
    "stat_mean = []\n",
    "stat_median = []\n",
    "stat_var =[]\n",
    "stat_std = []\n",
    "stat_sem = []\n",
    "\n",
    "ramicane_df = combined_data.loc[combined_data['Drug Regimen'] == 'Ramicane']\n",
    "stat_mean.append(ramicane_df['Tumor Volume (mm3)'].mean())\n",
    "stat_median.append(ramicane_df['Tumor Volume (mm3)'].median())\n",
    "stat_var.append(ramicane_df['Tumor Volume (mm3)'].var())\n",
    "stat_std.append(ramicane_df['Tumor Volume (mm3)'].std())\n",
    "stat_sem.append(st.sem(ramicane_df['Tumor Volume (mm3)']))\n",
    "\n",
    "capomulin_df = combined_data.loc[combined_data['Drug Regimen'] == 'Capomulin']\n",
    "stat_mean.append(capomulin_df['Tumor Volume (mm3)'].mean())\n",
    "stat_median.append(capomulin_df['Tumor Volume (mm3)'].median())\n",
    "stat_var.append(capomulin_df['Tumor Volume (mm3)'].var())\n",
    "stat_std.append(capomulin_df['Tumor Volume (mm3)'].std())\n",
    "stat_sem.append(st.sem(capomulin_df['Tumor Volume (mm3)']))\n",
    "\n",
    "infubinol_df = combined_data.loc[combined_data['Drug Regimen'] == 'Infubinol']\n",
    "stat_mean.append(infubinol_df['Tumor Volume (mm3)'].mean())\n",
    "stat_median.append(infubinol_df['Tumor Volume (mm3)'].median())\n",
    "stat_var.append(infubinol_df['Tumor Volume (mm3)'].var())\n",
    "stat_std.append(infubinol_df['Tumor Volume (mm3)'].std())\n",
    "stat_sem.append(st.sem(infubinol_df['Tumor Volume (mm3)']))\n",
    "\n",
    "placebo_df = combined_data.loc[combined_data['Drug Regimen'] == 'Placebo']\n",
    "stat_mean.append(placebo_df['Tumor Volume (mm3)'].mean())\n",
    "stat_median.append(placebo_df['Tumor Volume (mm3)'].median())\n",
    "stat_var.append(placebo_df['Tumor Volume (mm3)'].var())\n",
    "stat_std.append(placebo_df['Tumor Volume (mm3)'].std())\n",
    "stat_sem.append(st.sem(placebo_df['Tumor Volume (mm3)']))\n",
    "\n",
    "ceftamin_df = combined_data.loc[combined_data['Drug Regimen'] == 'Ceftamin']\n",
    "stat_mean.append(ceftamin_df['Tumor Volume (mm3)'].mean())\n",
    "stat_median.append(ceftamin_df['Tumor Volume (mm3)'].median())\n",
    "stat_var.append(ceftamin_df['Tumor Volume (mm3)'].var())\n",
    "stat_std.append(ceftamin_df['Tumor Volume (mm3)'].std())\n",
    "stat_sem.append(st.sem(ceftamin_df['Tumor Volume (mm3)']))\n",
    "\n",
    "stelasyn_df = combined_data.loc[combined_data['Drug Regimen'] == 'Stelasyn']\n",
    "stat_mean.append(stelasyn_df['Tumor Volume (mm3)'].mean())\n",
    "stat_median.append(stelasyn_df['Tumor Volume (mm3)'].median())\n",
    "stat_var.append(stelasyn_df['Tumor Volume (mm3)'].var())\n",
    "stat_std.append(stelasyn_df['Tumor Volume (mm3)'].std())\n",
    "stat_sem.append(st.sem(stelasyn_df['Tumor Volume (mm3)']))\n",
    "\n",
    "zoniferol_df = combined_data.loc[combined_data['Drug Regimen'] == 'Zoniferol']\n",
    "stat_mean.append(zoniferol_df['Tumor Volume (mm3)'].mean())\n",
    "stat_median.append(zoniferol_df['Tumor Volume (mm3)'].median())\n",
    "stat_var.append(zoniferol_df['Tumor Volume (mm3)'].var())\n",
    "stat_std.append(zoniferol_df['Tumor Volume (mm3)'].std())\n",
    "stat_sem.append(st.sem(zoniferol_df['Tumor Volume (mm3)']))\n",
    "\n",
    "ketapril_df = combined_data.loc[combined_data['Drug Regimen'] == 'Ketapril']\n",
    "stat_mean.append(ketapril_df['Tumor Volume (mm3)'].mean())\n",
    "stat_median.append(ketapril_df['Tumor Volume (mm3)'].median())\n",
    "stat_var.append(ketapril_df['Tumor Volume (mm3)'].var())\n",
    "stat_std.append(ketapril_df['Tumor Volume (mm3)'].std())\n",
    "stat_sem.append(st.sem(ketapril_df['Tumor Volume (mm3)']))\n",
    "\n",
    "propriva_df = combined_data.loc[combined_data['Drug Regimen'] == 'Propriva']\n",
    "stat_mean.append(propriva_df['Tumor Volume (mm3)'].mean())\n",
    "stat_median.append(propriva_df['Tumor Volume (mm3)'].median())\n",
    "stat_var.append(propriva_df['Tumor Volume (mm3)'].var())\n",
    "stat_std.append(propriva_df['Tumor Volume (mm3)'].std())\n",
    "stat_sem.append(st.sem(propriva_df['Tumor Volume (mm3)']))\n",
    "\n",
    "\n",
    "naftisol_df = combined_data.loc[combined_data['Drug Regimen'] == 'Naftisol']\n",
    "stat_mean.append(naftisol_df['Tumor Volume (mm3)'].mean())\n",
    "stat_median.append(naftisol_df['Tumor Volume (mm3)'].median())\n",
    "stat_var.append(naftisol_df['Tumor Volume (mm3)'].var())\n",
    "stat_std.append(naftisol_df['Tumor Volume (mm3)'].std())\n",
    "stat_sem.append(st.sem(naftisol_df['Tumor Volume (mm3)']))\n",
    "\n",
    "stat_df = pd.DataFrame({\n",
    "    \"Drug Regimen\": regimen_list,\n",
    "    \"Mean\": stat_mean,\n",
    "    \"Median\": stat_median,\n",
    "    \"Variance\": stat_var,\n",
    "    \"Standard Deviation\": stat_std,\n",
    "    \"SEM\": stat_sem\n",
    "})\n",
    "stat_data = stat_df.set_index('Drug Regimen')\n",
    "stat_data"
   ]
  },
  {
   "cell_type": "markdown",
   "metadata": {},
   "source": [
    "## Bar plots"
   ]
  },
  {
   "cell_type": "code",
   "execution_count": 4,
   "metadata": {},
   "outputs": [
    {
     "data": {
      "image/png": "[encoded data removed]",
      "text/plain": [
       "<Figure size 1440x720 with 1 Axes>"
      ]
     },
     "metadata": {
      "needs_background": "light"
     },
     "output_type": "display_data"
    }
   ],
   "source": [
    "# Generate a bar plot showing number of data points for each treatment regimen using pandas\n",
    "\n",
    "stat_data.plot(kind='bar', figsize=(20,10))\n",
    "plt.title(\"Data points for each treatment\")\n",
    "plt.ylabel(\"Number of stat value\")\n",
    "plt.xlabel(\"Drug Regimen\")\n",
    "plt.show()\n"
   ]
  },
  {
   "cell_type": "code",
   "execution_count": 5,
   "metadata": {},
   "outputs": [
    {
     "data": {
      "image/png": "[encoded data removed]",
      "text/plain": [
       "<Figure size 432x288 with 1 Axes>"
      ]
     },
     "metadata": {
      "needs_background": "light"
     },
     "output_type": "display_data"
    }
   ],
   "source": [
    "# Generate a bar plot showing number of data points for each treatment regimen using pyplot\n",
    "# x_axis = np.arange(len(stat_data))\n",
    "# tick_locations = [x for x in x_axis]\n",
    "# label = stat_data.index\n",
    "# plt.xticks(tick_locations, label)\n",
    "\n",
    "# plt.figure(figsize=(20,10))\n",
    "# ax = plt.subplot()\n",
    "# width = 0.3\n",
    "\n",
    "\n",
    "# ax.bar(x_axis- width*2, stat_data['Mean'], width=0.3, color = 'blue', align = 'center')\n",
    "# ax.bar(x_axis- width, stat_data['Median'], width=0.3, color = 'orange', align = 'center')\n",
    "# ax.bar(x_axis, stat_data['Variance'], width=0.3, color = 'green', align = 'center')\n",
    "# ax.bar(x_axis+ width, stat_data['Standard Deviation'], width=0.3, color = 'r', align = 'center')\n",
    "# ax.bar(x_axis- width*2, stat_data['SEM'], width=0.3, color = 'purple', align = 'center')\n",
    "\n",
    "\n",
    "# plt.show()\n",
    "\n",
    "\n",
    "n_groups = 5\n",
    "\n",
    "fig, ax = plt.subplots()\n",
    "index = np.arange(len(stat_data))\n",
    "bar_width=0.35\n",
    "opacity = 0.8\n",
    "\n",
    "rects1 = plt.bar(index, stat_data['Mean'], bar_width, alpha = opacity, color = 'blue', label = \"Mean\")\n",
    "rects2 = plt.bar(index + bar_width, stat_data['Median'], bar_width, alpha = opacity, color = \"orange\", label = \"Median\")\n",
    "rects3 = plt.bar(index + 2*bar_width, stat_data['Variance'], bar_width, alpha = opacity, color = \"green\", label=\"Variance\")\n",
    "rects4 = plt.bar(index + 3*bar_width, stat_data['Standard Deviation'], bar_width, alpha = opacity, color = \"red\", label = \"STD\")\n",
    "rects5 = plt.bar(index + 4*bar_width, stat_data['SEM'], bar_width, alpha = opacity, color = \"purple\", label = \"SEM\")\n",
    "\n",
    "plt.xlabel(\"Drug Regimen\")\n",
    "plt.ylabel(\"Number of stat value\")\n",
    "plt.title(\"Data Points for each treatment\")\n",
    "plt.xticks(index + bar_width , ('Ramicane', 'Capomulin', 'Infubinol', 'Placebo', 'Ceftamin', 'Stelasyn', 'Zoniferol', 'Ketapril', 'Propriva', 'Naftisol'))\n",
    "plt.legend()\n",
    "plt.tight_layout()\n",
    "plt.show()\n",
    "\n"
   ]
  },
  {
   "cell_type": "markdown",
   "metadata": {},
   "source": [
    "## Pie plots"
   ]
  },
  {
   "cell_type": "code",
   "execution_count": 6,
   "metadata": {},
   "outputs": [
    {
     "data": {
      "image/png": "[encoded data removed]",
      "text/plain": [
       "<Figure size 432x288 with 1 Axes>"
      ]
     },
     "metadata": {},
     "output_type": "display_data"
    }
   ],
   "source": [
    "# Generate a pie plot showing the distribution of female versus male mice using pandas\n",
    "gender_distribution = combined_data['Sex']\n",
    "labels = gender_distribution.unique()\n",
    "gender_list = gender_distribution.value_counts().astype('int')\n",
    "\n",
    "df = gender_list.to_frame()\n",
    "\n",
    "gender_pie = df.plot(kind=\"pie\", y = 'Sex',startangle=90 , title = (\"The distribution of female vs male mice\"))\n",
    "#gender_pie.set_ylabel(\"Gender\")\n",
    "plt.show()\n",
    "# plt.tight_layout()\n",
    "# plt.axis('equal')\n",
    "\n"
   ]
  },
  {
   "cell_type": "code",
   "execution_count": 7,
   "metadata": {},
   "outputs": [
    {
     "data": {
      "image/png": "[encoded data removed]",
      "text/plain": [
       "<Figure size 432x288 with 1 Axes>"
      ]
     },
     "metadata": {},
     "output_type": "display_data"
    }
   ],
   "source": [
    "# Generate a pie plot showing the distribution of female versus male mice using pyplot\n",
    "gender_distribution = combined_data['Sex']\n",
    "gender_list = gender_distribution.unique()\n",
    "gender_counts = gender_distribution.value_counts().tolist()\n",
    "colors = [\"lightblue\", \"lightcoral\"]\n",
    "\n",
    "plt.title(\"Distribution of female vs male\")\n",
    "plt.pie(gender_counts, labels=gender_list, colors=colors, autopct=\"%1.1f%%\", shadow=True, startangle = 90)\n",
    "plt.axis('equal')\n",
    "plt.show()"
   ]
  },
  {
   "cell_type": "markdown",
   "metadata": {},
   "source": [
    "## Quartiles, outliers and boxplots"
   ]
  },
  {
   "cell_type": "code",
   "execution_count": 8,
   "metadata": {},
   "outputs": [
    {
     "name": "stdout",
     "output_type": "stream",
     "text": [
      "-------------------------\n",
      "Capomulin\n",
      "-------------------------\n",
      "The lower quartile of Tumor Volume is: 32.37735684\n",
      "The upper quartile of Tumor Volume is: 40.1592203\n",
      "The interquartile range of Tumor Volume is: 7.781863460000004\n",
      "The the median of Tumor Volume is: 38.125164399999996\n",
      "-------------------------\n",
      "Ramicane\n",
      "-------------------------\n",
      "The lower quartile of Tumor Volume is: 31.56046955\n",
      "The upper quartile of Tumor Volume is: 40.65900627\n",
      "The interquartile range of Tumor Volume is: 9.098536719999998\n",
      "The the median of Tumor Volume is: 36.56165229\n",
      "-------------------------\n",
      "Infubinol\n",
      "-------------------------\n",
      "The lower quartile of Tumor Volume is: 54.04860769\n",
      "The upper quartile of Tumor Volume is: 65.52574285\n",
      "The interquartile range of Tumor Volume is: 11.477135160000003\n",
      "The the median of Tumor Volume is: 60.16518046\n",
      "-------------------------\n",
      "Ceftamin\n",
      "-------------------------\n",
      "The lower quartile of Tumor Volume is: 48.72207785\n",
      "The upper quartile of Tumor Volume is: 64.29983003\n",
      "The interquartile range of Tumor Volume is: 15.577752179999997\n",
      "The the median of Tumor Volume is: 59.85195552\n"
     ]
    }
   ],
   "source": [
    "\n",
    "capomulin_df = combined_data.loc[combined_data['Drug Regimen'] == 'Capomulin']\n",
    "ramicane_df = combined_data.loc[combined_data['Drug Regimen'] == 'Ramicane']\n",
    "infubinol_df = combined_data.loc[combined_data['Drug Regimen'] == 'Infubinol']\n",
    "ceftamin_df = combined_data.loc[combined_data['Drug Regimen'] == 'Ceftamin']\n",
    "\n",
    "\n",
    "cap_mouse_id_list = capomulin_df[\"Mouse ID\"].unique().tolist()\n",
    "cap_last_tv = []\n",
    "cap_mouse_id = []\n",
    "\n",
    "for mouse in cap_mouse_id_list:\n",
    "    \n",
    "    mouse_data = combined_data.loc[combined_data['Mouse ID'] == mouse]\n",
    "    last_value = mouse_data.iloc[len(mouse_data)-1,6]\n",
    "    cap_mouse_id.append(mouse)\n",
    "    cap_last_tv.append(last_value)\n",
    "    \n",
    "cap_tumor_df = pd.DataFrame({'Mouse ID': cap_mouse_id, 'Last Tumor Volume': cap_last_tv})\n",
    "\n",
    "\n",
    "ram_mouse_id_list = ramicane_df[\"Mouse ID\"].unique().tolist()\n",
    "ram_last_tv = []\n",
    "ram_mouse_id = []\n",
    "\n",
    "for mouse in ram_mouse_id_list:\n",
    "    \n",
    "    mouse_data = combined_data.loc[combined_data['Mouse ID'] == mouse]\n",
    "    last_value = mouse_data.iloc[len(mouse_data)-1,6]\n",
    "    ram_mouse_id.append(mouse)\n",
    "    ram_last_tv.append(last_value)\n",
    "    \n",
    "ram_tumor_df = pd.DataFrame({'Mouse ID': ram_mouse_id, 'Last Tumor Volume': ram_last_tv})\n",
    "\n",
    "infu_mouse_id_list = infubinol_df[\"Mouse ID\"].unique().tolist()\n",
    "infu_last_tv = []\n",
    "infu_mouse_id = []\n",
    "\n",
    "for mouse in infu_mouse_id_list:\n",
    "    \n",
    "    mouse_data = combined_data.loc[combined_data['Mouse ID'] == mouse]\n",
    "    last_value = mouse_data.iloc[len(mouse_data)-1,6]\n",
    "    infu_mouse_id.append(mouse)\n",
    "    infu_last_tv.append(last_value)\n",
    "    \n",
    "infu_tumor_df = pd.DataFrame({'Mouse ID': infu_mouse_id, 'Last Tumor Volume': infu_last_tv})\n",
    "\n",
    "cef_mouse_id_list = ceftamin_df[\"Mouse ID\"].unique().tolist()\n",
    "cef_last_tv = []\n",
    "cef_mouse_id = []\n",
    "\n",
    "for mouse in cef_mouse_id_list:\n",
    "    \n",
    "    mouse_data = combined_data.loc[combined_data['Mouse ID'] == mouse]\n",
    "    last_value = mouse_data.iloc[len(mouse_data)-1,6]\n",
    "    cef_mouse_id.append(mouse)\n",
    "    cef_last_tv.append(last_value)\n",
    "    \n",
    "cef_tumor_df = pd.DataFrame({'Mouse ID': cef_mouse_id, 'Last Tumor Volume': cef_last_tv})\n",
    "\n",
    "\n",
    "cap_quartiles = cap_tumor_df['Last Tumor Volume'].quantile([.25,.5,.75])\n",
    "cap_lowerq = cap_tumor_df['Last Tumor Volume'].quantile(0.25)\n",
    "cap_upperq = cap_tumor_df['Last Tumor Volume'].quantile(0.75)\n",
    "cap_iqr = cap_upperq-cap_lowerq\n",
    "\n",
    "print(\"-------------------------\")\n",
    "print(\"Capomulin\")\n",
    "print(\"-------------------------\")\n",
    "print(f\"The lower quartile of Tumor Volume is: {cap_lowerq}\")\n",
    "print(f\"The upper quartile of Tumor Volume is: {cap_upperq}\")\n",
    "print(f\"The interquartile range of Tumor Volume is: {cap_iqr}\")\n",
    "print(f\"The the median of Tumor Volume is: {cap_quartiles[0.5]}\")\n",
    "print(\"-------------------------\")\n",
    "\n",
    "ram_quartiles = ram_tumor_df['Last Tumor Volume'].quantile([.25,.5,.75])\n",
    "ram_lowerq = ram_tumor_df['Last Tumor Volume'].quantile(0.25)\n",
    "ram_upperq = ram_tumor_df['Last Tumor Volume'].quantile(0.75)\n",
    "ram_iqr = ram_upperq-ram_lowerq\n",
    "\n",
    "print(\"Ramicane\")\n",
    "print(\"-------------------------\")\n",
    "print(f\"The lower quartile of Tumor Volume is: {ram_lowerq}\")\n",
    "print(f\"The upper quartile of Tumor Volume is: {ram_upperq}\")\n",
    "print(f\"The interquartile range of Tumor Volume is: {ram_iqr}\")\n",
    "print(f\"The the median of Tumor Volume is: {ram_quartiles[0.5]}\")\n",
    "print(\"-------------------------\")\n",
    "\n",
    "infu_quartiles = infu_tumor_df['Last Tumor Volume'].quantile([.25,.5,.75])\n",
    "infu_lowerq = infu_tumor_df['Last Tumor Volume'].quantile(0.25)\n",
    "infu_upperq = infu_tumor_df['Last Tumor Volume'].quantile(0.75)\n",
    "infu_iqr = infu_upperq-infu_lowerq\n",
    "\n",
    "print(\"Infubinol\")\n",
    "print(\"-------------------------\")\n",
    "print(f\"The lower quartile of Tumor Volume is: {infu_lowerq}\")\n",
    "print(f\"The upper quartile of Tumor Volume is: {infu_upperq}\")\n",
    "print(f\"The interquartile range of Tumor Volume is: {infu_iqr}\")\n",
    "print(f\"The the median of Tumor Volume is: {infu_quartiles[0.5]}\")\n",
    "print(\"-------------------------\")\n",
    "\n",
    "cef_quartiles = cef_tumor_df['Last Tumor Volume'].quantile([.25,.5,.75])\n",
    "cef_lowerq = cef_tumor_df['Last Tumor Volume'].quantile(0.25)\n",
    "cef_upperq = cef_tumor_df['Last Tumor Volume'].quantile(0.75)\n",
    "cef_iqr = cef_upperq-cef_lowerq\n",
    "\n",
    "print(\"Ceftamin\")\n",
    "print(\"-------------------------\")\n",
    "print(f\"The lower quartile of Tumor Volume is: {cef_lowerq}\")\n",
    "print(f\"The upper quartile of Tumor Volume is: {cef_upperq}\")\n",
    "print(f\"The interquartile range of Tumor Volume is: {cef_iqr}\")\n",
    "print(f\"The the median of Tumor Volume is: {cef_quartiles[0.5]}\")\n"
   ]
  },
  {
   "cell_type": "code",
   "execution_count": 9,
   "metadata": {},
   "outputs": [
    {
     "data": {
      "image/png": "[encoded data removed]",
      "text/plain": [
       "<Figure size 432x288 with 4 Axes>"
      ]
     },
     "metadata": {
      "needs_background": "light"
     },
     "output_type": "display_data"
    }
   ],
   "source": [
    "# Generate a box plot of the final tumor volume of each mouse across four regimens of interest\n",
    "fig = plt.figure()\n",
    "\n",
    "ax1 = fig.add_subplot(241)\n",
    "ax2 = fig.add_subplot(242)\n",
    "ax3 = fig.add_subplot(243)\n",
    "ax4 = fig.add_subplot(244)\n",
    "\n",
    "\n",
    "\n",
    "# fig, (ax1,ax2,ax3,ax4) = plt.subplots(4)\n",
    "fig.suptitle(\"The final tumor volume\", fontsize=16, fontweight=\"bold\")\n",
    "\n",
    "ax1.set_title('capomulin')\n",
    "ax1.boxplot(cap_tumor_df['Last Tumor Volume'])\n",
    "\n",
    "ax2.set_title('ramicane')\n",
    "ax2.boxplot(ram_tumor_df['Last Tumor Volume'])\n",
    "\n",
    "ax3.set_title('infubinol')\n",
    "ax3.boxplot(infu_tumor_df['Last Tumor Volume'])\n",
    "\n",
    "ax4.set_title('ceftamin')\n",
    "ax4.boxplot(cef_tumor_df['Last Tumor Volume'])\n",
    "\n",
    "plt.ylabel('Tumor Volume (mm3)')\n",
    "plt.show()"
   ]
  },
  {
   "cell_type": "markdown",
   "metadata": {},
   "source": [
    "## Line and scatter plots"
   ]
  },
  {
   "cell_type": "code",
   "execution_count": 10,
   "metadata": {},
   "outputs": [
    {
     "data": {
      "text/plain": [
       "Text(0, 0.5, 'Time point')"
      ]
     },
     "execution_count": 10,
     "metadata": {},
     "output_type": "execute_result"
    },
    {
     "data": {
      "image/png": "[encoded data removed]",
      "text/plain": [
       "<Figure size 432x288 with 1 Axes>"
      ]
     },
     "metadata": {
      "needs_background": "light"
     },
     "output_type": "display_data"
    }
   ],
   "source": [
    "# Generate a line plot of time point versus tumor volume for a mouse treated with Capomulin\n",
    "single_mouse = capomulin_df.iloc[:,5:7]\n",
    "time_and_tumor = single_mouse.iloc[0:10, :]\n",
    "\n",
    "lineplot = time_and_tumor.plot.line()\n",
    "lineplot.set_xlabel('Exp times')\n",
    "lineplot.set_ylabel('Time point')"
   ]
  },
  {
   "cell_type": "code",
   "execution_count": 11,
   "metadata": {},
   "outputs": [
    {
     "data": {
      "text/plain": [
       "Text(0, 0.5, 'AVG Tumor Volume(mm3)')"
      ]
     },
     "execution_count": 11,
     "metadata": {},
     "output_type": "execute_result"
    },
    {
     "data": {
      "image/png": "[encoded data removed]",
      "text/plain": [
       "<Figure size 432x288 with 1 Axes>"
      ]
     },
     "metadata": {
      "needs_background": "light"
     },
     "output_type": "display_data"
    }
   ],
   "source": [
    "# Generate a scatter plot of mouse weight versus average tumor volume for the Capomulin regimen\n",
    "weight_list = capomulin_df['Weight (g)'].unique()\n",
    "avg_tumor = []\n",
    "for i in range(0,len(weight_list)):\n",
    "    avg_tumor.append(capomulin_df.loc[capomulin_df['Weight (g)'] == weight_list[i]][\"Tumor Volume (mm3)\"].mean())\n",
    "\n",
    "weight_vs_avgtumor = pd.DataFrame({\"Weight(g)\": weight_list, \"AVG Tumor Volume(mm3)\": avg_tumor})\n",
    "scatter = weight_vs_avgtumor.plot.scatter(x=\"Weight(g)\", y=\"AVG Tumor Volume(mm3)\")\n",
    "\n",
    "x_values = weight_vs_avgtumor[\"Weight(g)\"]\n",
    "y_values = weight_vs_avgtumor[\"AVG Tumor Volume(mm3)\"]\n",
    "\n",
    "plt.scatter(x_values,y_values)\n",
    "plt.xlabel('Weight(g)')\n",
    "plt.ylabel('AVG Tumor Volume(mm3)')\n"
   ]
  },
  {
   "cell_type": "code",
   "execution_count": 15,
   "metadata": {},
   "outputs": [
    {
     "name": "stdout",
     "output_type": "stream",
     "text": [
      "The correlation between both factors is 0.95\n"
     ]
    },
    {
     "data": {
      "image/png": "[encoded data removed]",
      "text/plain": [
       "<Figure size 432x288 with 1 Axes>"
      ]
     },
     "metadata": {
      "needs_background": "light"
     },
     "output_type": "display_data"
    }
   ],
   "source": [
    "# Calculate the correlation coefficient and linear regression model for mouse weight and average tumor volume for the Capomulin regimen\n",
    "\n",
    "correlation = st.pearsonr(weight_vs_avgtumor[\"Weight(g)\"], weight_vs_avgtumor[\"AVG Tumor Volume(mm3)\"])\n",
    "print(f\"The correlation between both factors is {round(correlation[0],2)}\")\n",
    "\n",
    "(slope, intercept, rvalue, pvalue, stderr) = st.linregress(x_values, y_values)\n",
    "regress_values = x_values * slope + intercept\n",
    "line_eq = \"y = \" + str(round(slope,2)) + \"x + \" + str(round(intercept,2))\n",
    "plt.scatter(x_values,y_values)\n",
    "plt.plot(x_values,regress_values,\"r-\")\n",
    "plt.annotate(line_eq,(6,10),fontsize=15,color=\"red\")\n",
    "plt.xlabel('Weight(g)')\n",
    "plt.ylabel('AVG Tumor Volume(mm3)')\n",
    "\n",
    "plt.show()"
   ]
  },
  {
   "cell_type": "code",
   "execution_count": null,
   "metadata": {},
   "outputs": [],
   "source": []
  }
 ],
 "metadata": {
  "anaconda-cloud": {},
  "kernelspec": {
   "display_name": "Python 3",
   "language": "python",
   "name": "python3"
  },
  "language_info": {
   "codemirror_mode": {
    "name": "ipython",
    "version": 3
   },
   "file_extension": ".py",
   "mimetype": "text/x-python",
   "name": "python",
   "nbconvert_exporter": "python",
   "pygments_lexer": "ipython3",
   "version": "3.7.3"
  }
 },
 "nbformat": 4,
 "nbformat_minor": 2
}
